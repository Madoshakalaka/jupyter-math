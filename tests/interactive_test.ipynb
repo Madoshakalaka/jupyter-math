{
 "cells": [
  {
   "cell_type": "code",
   "execution_count": 1,
   "metadata": {
    "collapsed": true,
    "pycharm": {
     "is_executing": false,
     "name": "#%%\n"
    }
   },
   "outputs": [
    {
     "data": {
      "text/plain": "<IPython.core.display.Latex object>",
      "text/latex": "\\[C_{A} = \\left\\{1, 2\\right\\}\\]"
     },
     "metadata": {},
     "output_type": "display_data"
    },
    {
     "data": {
      "text/plain": "<IPython.core.display.Latex object>",
      "text/latex": "\\[\\left\\{\n                \\begin{array}{ll}C_{A}\\\\x\n                \\end{array}\n              \\right.\\]"
     },
     "metadata": {},
     "output_type": "display_data"
    },
    {
     "data": {
      "text/plain": "<IPython.core.display.Latex object>",
      "text/latex": "\\[\\{\\text{I am happy},\\;\\text{not happy}\\}\\]"
     },
     "metadata": {},
     "output_type": "display_data"
    },
    {
     "data": {
      "text/plain": "<IPython.core.display.Latex object>",
      "text/latex": "\\[X = \\{\\text{I am happy},\\;\\text{not happy}\\}\\]"
     },
     "metadata": {},
     "output_type": "display_data"
    },
    {
     "data": {
      "text/plain": "<IPython.core.display.Latex object>",
      "text/latex": "\\[E = \\{\\text{raining},\\;\\text{sunny}\\}\\]"
     },
     "metadata": {},
     "output_type": "display_data"
    },
    {
     "data": {
      "text/plain": "<IPython.core.display.Math object>",
      "text/latex": "$\\displaystyle \\begin{align}\n\nG &= \\sum_{x \\in E} \\Pr(\\,x\\,) \\times ({\\Pr(\\,\\text{A} \\mid x\\,)}^2 + {\\Pr(\\,\\text{B} \\mid x\\,)}^2)\\\\ \n &= (\\Pr(\\,\\text{raining}\\,) \\times ({\\Pr(\\,\\text{A} \\mid \\text{raining}\\,)}^2 + {\\Pr(\\,\\text{B} \\mid \\text{raining}\\,)}^2)) + (\\Pr(\\,\\text{sunny}\\,) \\times ({\\Pr(\\,\\text{A} \\mid \\text{sunny}\\,)}^2 + {\\Pr(\\,\\text{B} \\mid \\text{sunny}\\,)}^2))\\\\ \n &= (0.6 \\times (0.04 + 0.64)) + (0.4 \\times (0.722 + 0.022))\\\\ \n &= 0.706\n        \n\\end{align}\n        $"
     },
     "metadata": {},
     "output_type": "display_data"
    },
    {
     "data": {
      "text/plain": "<IPython.core.display.Latex object>",
      "text/latex": "\\[{\\Pr(\\,\\text{rain} \\mid \\text{humid}\\,)}^2\\]"
     },
     "metadata": {},
     "output_type": "display_data"
    },
    {
     "data": {
      "text/plain": "<IPython.core.display.Math object>",
      "text/latex": "$\\displaystyle \\begin{align}\n\nG &= \\sum_{x \\in E} \\Pr(\\,x\\,) + \\Pr(\\,x\\,)\\\\ \n &= (\\Pr(\\,\\text{raining}\\,) + \\Pr(\\,\\text{raining}\\,)) + (\\Pr(\\,\\text{sunny}\\,) + \\Pr(\\,\\text{sunny}\\,))\\\\ \n &= 1\n        \n\\end{align}\n        $"
     },
     "metadata": {},
     "output_type": "display_data"
    },
    {
     "data": {
      "text/plain": "<IPython.core.display.Latex object>",
      "text/latex": "\\[\\Pr(\\,\\text{rain}\\,)\\]"
     },
     "metadata": {},
     "output_type": "display_data"
    },
    {
     "data": {
      "text/plain": "<IPython.core.display.Latex object>",
      "text/latex": "\\[(\\Pr(\\,\\text{rain} \\mid \\text{humid}\\,) + \\Pr(\\,\\text{rain}\\,)) \\times {\\Pr(\\,\\text{rain} \\mid \\text{humid}\\,)}^2\\]"
     },
     "metadata": {},
     "output_type": "display_data"
    }
   ],
   "source": [
    "from sympy import Symbol, FiniteSet, sympify\n",
    "from jupyter_math.main import TallBrace, Event, EventSet, SumOverFiniteSet, Probability, Intermediate\n",
    "from jupyter_math import Def, Pr, EXPAND_OUTER_SUM, SUBSTITUTE_ALL, GET_RESULT\n",
    "Pr = Probability\n",
    "\n",
    "\n",
    "d = Def(Symbol('C_A'), FiniteSet('1','2'))\n",
    "d.display()\n",
    "\n",
    "TallBrace([d, Symbol('x')]).display()\n",
    "\n",
    "a = Event('I am happy')\n",
    "b = Event('not happy')\n",
    "es = EventSet([a,b])\n",
    "es.display()\n",
    "\n",
    "Def(Symbol('X'), es).display()\n",
    "\n",
    "\n",
    "\n",
    "\n",
    "def lookup_func():\n",
    "    return None\n",
    "# \n",
    "# s = SumOverFiniteSet(sympify('f(x)'), E_space, 'x')\n",
    "# s.display()\n",
    "\n",
    "# \n",
    "# gini.display_evaluation(lookup_func, [])\n",
    "# gini = Def('G', SumOverFiniteSet(Pr(x) , E_space, 'x'))\n",
    "def lookup(zz):\n",
    "    lc = {Pr('raining'): 0.6, Pr('sunny'): 0.4, Pr('B', 'sunny'):0.15, Pr('B', 'raining'):0.8, Pr('A', 'raining'): 0.2, Pr('A', 'sunny'): 0.85}\n",
    "    # if isinstance(zz, Pr):\n",
    "    #     print(zz._event, print(zz._condition))\n",
    "    if zz in lc:\n",
    "        # print('accepted: ', zz)\n",
    "        return lc[zz]\n",
    "    \n",
    "    \n",
    "    \n",
    "E_space = Def('E', EventSet(['raining', 'sunny']))\n",
    "E_space.display()\n",
    "x = Def('x')\n",
    "gini = Def('G', SumOverFiniteSet(Pr(x) * (Pr('A', x)**2 + Pr('B', x)**2), E_space, 'x'))\n",
    "gini.display_evaluation(lookup, [EXPAND_OUTER_SUM, SUBSTITUTE_ALL, GET_RESULT])\n",
    "\n",
    "\n",
    "\n",
    "pr = Probability('rain', 'humid')\n",
    "(pr**2).display()\n",
    "\n",
    "prc = Def('G', SumOverFiniteSet(Pr(x) + Pr(x) , E_space, 'x'))\n",
    "# prc.display()\n",
    "prc.display_evaluation(lambda x:1, [Intermediate.EXPAND_OUTER_SUM, Intermediate.SUBSTITUTE_ALL])\n",
    "\n",
    "\n",
    "pr1 = Probability('rain')\n",
    "pr1.display()\n",
    "\n",
    "((pr + pr1)*pr**2).display()\n",
    "\n",
    "# new_s = SumOverFiniteSet(, E_space, 'x')"
   ]
  }
 ],
 "metadata": {
  "language_info": {
   "codemirror_mode": {
    "name": "ipython",
    "version": 2
   },
   "file_extension": ".py",
   "mimetype": "text/x-python",
   "name": "python",
   "nbconvert_exporter": "python",
   "pygments_lexer": "ipython2",
   "version": "2.7.6"
  },
  "kernelspec": {
   "name": "python3",
   "language": "python",
   "display_name": "Python 3"
  },
  "pycharm": {
   "stem_cell": {
    "cell_type": "raw",
    "source": [],
    "metadata": {
     "collapsed": false
    }
   }
  }
 },
 "nbformat": 4,
 "nbformat_minor": 0
}