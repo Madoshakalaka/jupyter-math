{
 "cells": [
  {
   "cell_type": "code",
   "execution_count": 1,
   "metadata": {
    "collapsed": true,
    "pycharm": {
     "is_executing": false,
     "name": "#%%\n"
    }
   },
   "outputs": [
    {
     "data": {
      "text/plain": "<IPython.core.display.Latex object>",
      "text/latex": "\\[C_{A} = \\left\\{1, 2\\right\\}\\]"
     },
     "metadata": {},
     "output_type": "display_data"
    },
    {
     "data": {
      "text/plain": "<IPython.core.display.Latex object>",
      "text/latex": "\\[\\left\\{\n                \\begin{array}{ll}C_{A} = \\left\\{1, 2\\right\\}\\\\x\n                \\end{array}\n              \\right.\\]"
     },
     "metadata": {},
     "output_type": "display_data"
    },
    {
     "data": {
      "text/plain": "<IPython.core.display.Latex object>",
      "text/latex": "\\[\\{\\text{I am happy},\\;\\text{not happy}\\}\\]"
     },
     "metadata": {},
     "output_type": "display_data"
    },
    {
     "data": {
      "text/plain": "<IPython.core.display.Latex object>",
      "text/latex": "\\[X = \\{\\text{I am happy},\\;\\text{not happy}\\}\\]"
     },
     "metadata": {},
     "output_type": "display_data"
    },
    {
     "data": {
      "text/plain": "<IPython.core.display.Latex object>",
      "text/latex": "\\[E = \\{\\text{raining},\\;\\text{sunny}\\}\\]"
     },
     "metadata": {},
     "output_type": "display_data"
    },
    {
     "data": {
      "text/plain": "<IPython.core.display.Latex object>",
      "text/latex": "\\[\\sum_{x \\in E} f{\\left(x \\right)}\\]"
     },
     "metadata": {},
     "output_type": "display_data"
    },
    {
     "data": {
      "text/plain": "<IPython.core.display.Latex object>",
      "text/latex": "\\begin{equation} \\label{eq1}\n\\begin{split}\nG & = \\sum_{x \\in E} \\Pr(\\,x\\,) \\times ({\\Pr(\\,\\text{A} \\mid x\\,)}^2 + {\\Pr(\\,\\text{B} \\mid x\\,)}^2)\\\\ & = 1\\\\ & = 2\\end{split}\n\\end{equation}\n        "
     },
     "metadata": {},
     "output_type": "display_data"
    },
    {
     "data": {
      "text/plain": "<IPython.core.display.Latex object>",
      "text/latex": "\\[{\\Pr(\\,\\text{rain} \\mid \\text{humid}\\,)}^2\\]"
     },
     "metadata": {},
     "output_type": "display_data"
    },
    {
     "data": {
      "text/plain": "<IPython.core.display.Latex object>",
      "text/latex": "\\[\\Pr(\\,\\text{rain}\\,)\\]"
     },
     "metadata": {},
     "output_type": "display_data"
    },
    {
     "data": {
      "text/plain": "<IPython.core.display.Latex object>",
      "text/latex": "\\[(\\Pr(\\,\\text{rain} \\mid \\text{humid}\\,) + \\Pr(\\,\\text{rain}\\,)) \\times {\\Pr(\\,\\text{rain} \\mid \\text{humid}\\,)}^2\\]"
     },
     "metadata": {},
     "output_type": "display_data"
    }
   ],
   "source": [
    "from sympy import Symbol, FiniteSet, sympify\n",
    "from jupyter_math.main import Definition, TallBrace, Event, EventSet, SumOverFiniteSet, Probability\n",
    "Pr = Probability\n",
    "\n",
    "d = Definition(Symbol('C_A'), FiniteSet('1','2'))\n",
    "d.display()\n",
    "\n",
    "TallBrace([d, Symbol('x')]).display()\n",
    "\n",
    "a = Event('I am happy')\n",
    "b = Event('not happy')\n",
    "es = EventSet([a,b])\n",
    "es.display()\n",
    "\n",
    "Definition(Symbol('X'), es).display()\n",
    "\n",
    "\n",
    "E_space = Definition(Symbol('E'), EventSet(['raining', 'sunny']))\n",
    "E_space.display()\n",
    "\n",
    "\n",
    "\n",
    "s = SumOverFiniteSet(sympify('f(x)'), E_space, 'x')\n",
    "s.display()\n",
    "\n",
    "\n",
    "new_s = SumOverFiniteSet(Pr(Definition('x')) * (Pr('A', Definition('x'))**2 + Pr('B', Definition('x'))**2), E_space, 'x')\n",
    "\n",
    "Definition('G',new_s).display_evaluation(lambda x: x)\n",
    "\n",
    "pr = Probability('rain', 'humid')\n",
    "(pr**2).display()\n",
    "\n",
    "\n",
    "\n",
    "pr1 = Probability('rain')\n",
    "pr1.display()\n",
    "\n",
    "((pr + pr1)*pr**2).display()\n",
    "\n",
    "# new_s = SumOverFiniteSet(, E_space, 'x')"
   ]
  }
 ],
 "metadata": {
  "language_info": {
   "codemirror_mode": {
    "name": "ipython",
    "version": 2
   },
   "file_extension": ".py",
   "mimetype": "text/x-python",
   "name": "python",
   "nbconvert_exporter": "python",
   "pygments_lexer": "ipython2",
   "version": "2.7.6"
  },
  "kernelspec": {
   "name": "python3",
   "language": "python",
   "display_name": "Python 3"
  },
  "pycharm": {
   "stem_cell": {
    "cell_type": "raw",
    "source": [],
    "metadata": {
     "collapsed": false
    }
   }
  }
 },
 "nbformat": 4,
 "nbformat_minor": 0
}